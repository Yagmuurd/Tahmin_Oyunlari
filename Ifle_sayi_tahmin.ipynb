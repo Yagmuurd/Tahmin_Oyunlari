{
  "cells": [
    {
      "cell_type": "code",
      "execution_count": 1,
      "metadata": {},
      "outputs": [],
      "source": [
        "sayı = 5\n",
        "tahmin = int(input(\"1 ile 10 arasında bir sayı giriniz: \"))\n",
        "\n",
        "if tahmin == 5:\n",
        "  print(\"Tebrikler! İlk denemede doğru sayıyı buldunuz.\")\n",
        "elif ((tahmin < 1) | (tahmin > 10)):\n",
        "  print(\"İstenen aralıkta bir sayı girmediniz.\")\n",
        "elif tahmin > 5:\n",
        "  print(\"Üzgünüm. Girdiğiniz sayı büyük.\")\n",
        "elif tahmin < 5:\n",
        "  print(\"Üzgünüm. Girdiğiniz sayı küçük.\")"
      ]
    }
  ],
  "metadata": {
    "colab": {
      "collapsed_sections": [],
      "name": "İlk Medium Yazısı Kodlar",
      "provenance": [],
      "toc_visible": true
    },
    "interpreter": {
      "hash": "5b7bcb5cad9bed29e3bc2556c968cd63ae79dbab1d37c4997008c560d2c4b0cc"
    },
    "kernelspec": {
      "display_name": "Python 3.9.7 ('base')",
      "language": "python",
      "name": "python3"
    },
    "language_info": {
      "codemirror_mode": {
        "name": "ipython",
        "version": 3
      },
      "file_extension": ".py",
      "mimetype": "text/x-python",
      "name": "python",
      "nbconvert_exporter": "python",
      "pygments_lexer": "ipython3",
      "version": "3.9.7"
    }
  },
  "nbformat": 4,
  "nbformat_minor": 0
}
