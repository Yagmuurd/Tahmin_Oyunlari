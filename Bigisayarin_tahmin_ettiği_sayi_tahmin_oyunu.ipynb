{
  "cells": [
    {
      "cell_type": "code",
      "execution_count": null,
      "metadata": {},
      "outputs": [],
      "source": [
        "#bilgisayarın tahmin ettiği sayı oyunu\n",
        "import random\n",
        "def computer_guess(num):\n",
        "    start, end = 1, num\n",
        "    back = ''\n",
        "    while back != \"doğru\":\n",
        "        if start <= end:\n",
        "            guess = random.randint(start, end)\n",
        "        else:\n",
        "            guess = start \n",
        "        \n",
        "        back = input(f\"Tahminde bulunduğum  değer {guess}, aklında tuttuğun değerden büyükse >, küçükse <, doğruysa doğru şeklinde belirt\").lower()\n",
        "        if back == '>':\n",
        "            end = guess - 1\n",
        "        elif  back ==  '<':\n",
        "            start = guess + 1\n",
        "        elif back != \"doğru\":\n",
        "            print(\"Yanlış ifade kullandın\")\n",
        "        break\n",
        "    print('Tebrikler doğru tahminde bulundun')\n",
        "computer_guess(9)"
      ]
    },
    {
      "cell_type": "markdown",
      "metadata": {},
      "source": []
    }
  ],
  "metadata": {
    "colab": {
      "name": "2. Hafta.ipynb",
      "provenance": []
    },
    "interpreter": {
      "hash": "5b7bcb5cad9bed29e3bc2556c968cd63ae79dbab1d37c4997008c560d2c4b0cc"
    },
    "kernelspec": {
      "display_name": "Python 3.9.7 ('base')",
      "language": "python",
      "name": "python3"
    },
    "language_info": {
      "codemirror_mode": {
        "name": "ipython",
        "version": 3
      },
      "file_extension": ".py",
      "mimetype": "text/x-python",
      "name": "python",
      "nbconvert_exporter": "python",
      "pygments_lexer": "ipython3",
      "version": "3.9.7"
    }
  },
  "nbformat": 4,
  "nbformat_minor": 0
}
