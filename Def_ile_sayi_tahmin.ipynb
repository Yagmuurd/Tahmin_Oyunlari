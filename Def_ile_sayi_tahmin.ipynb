{
  "cells": [
    {
      "cell_type": "code",
      "execution_count": null,
      "metadata": {},
      "outputs": [],
      "source": [
        "#def ile sayı tahmin oyunu\n",
        "def guess(num):\n",
        "    random_number = int(input(\"Sayı tahmin oyunu için 1 ile 100 arasında bir sayı tahmininde bulun: \"))\n",
        "    while num!= random_number:\n",
        "        if num < random_number:\n",
        "            print(\"Üzgünüm daha küçük bir sayı tahmininde bulunmalıydın.\")\n",
        "        else:\n",
        "            print(\"Üzgünüm daha büyük bir sayı tahmininde bulunmalıydın\")\n",
        "        random_number =int(input(\"Sayı tahmin oyunu için bir tahminde bulunun: \"))\n",
        "    else:\n",
        "        print(\"Tebrikler, tahminin doğru!\")\n",
        "\n",
        "guess(18)"
      ]
    },
    {
      "cell_type": "markdown",
      "metadata": {},
      "source": []
    }
  ],
  "metadata": {
    "colab": {
      "name": "2. Hafta.ipynb",
      "provenance": []
    },
    "interpreter": {
      "hash": "5b7bcb5cad9bed29e3bc2556c968cd63ae79dbab1d37c4997008c560d2c4b0cc"
    },
    "kernelspec": {
      "display_name": "Python 3.9.7 ('base')",
      "language": "python",
      "name": "python3"
    },
    "language_info": {
      "codemirror_mode": {
        "name": "ipython",
        "version": 3
      },
      "file_extension": ".py",
      "mimetype": "text/x-python",
      "name": "python",
      "nbconvert_exporter": "python",
      "pygments_lexer": "ipython3",
      "version": "3.9.7"
    }
  },
  "nbformat": 4,
  "nbformat_minor": 0
}
